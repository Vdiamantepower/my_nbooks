{
 "cells": [
  {
   "cell_type": "markdown",
   "id": "9868a0b7-e005-4417-b8fe-651ac2f5042c",
   "metadata": {},
   "source": [
    "# Diamante_intro\n"
   ]
  },
  {
   "cell_type": "markdown",
   "id": "df15eb5f-70ff-4bb9-8fd7-449bfa92c1c7",
   "metadata": {},
   "source": [
    "## Valentina Diamante"
   ]
  },
  {
   "cell_type": "code",
   "execution_count": 67,
   "id": "be6ce7a9-e2bc-4a17-bc00-4c8ad8dbb94c",
   "metadata": {},
   "outputs": [],
   "source": [
    "import random"
   ]
  },
  {
   "cell_type": "code",
   "execution_count": 103,
   "id": "b234dce8-acd2-490e-bc2f-def5998b7aee",
   "metadata": {},
   "outputs": [],
   "source": [
    "nums = [random.randint(30, 100) for rancount in range(40)]"
   ]
  },
  {
   "cell_type": "code",
   "execution_count": 105,
   "id": "2ab3d71e-f78a-49be-ab59-f3b1227d682f",
   "metadata": {},
   "outputs": [
    {
     "name": "stdout",
     "output_type": "stream",
     "text": [
      "35 39 40 41 43 44 45 47 47 49 51 53 53 54 56 56 57 59 60 61 61 61 64 69 73 75 75 79 81 82 85 88 91 93 95 96 98 99 100 100 "
     ]
    }
   ],
   "source": [
    "nums.sort()\n",
    "for sortval in nums:\n",
    "    print (sortval, end=\" \")"
   ]
  },
  {
   "cell_type": "markdown",
   "id": "877b7ff9-97b4-4f3c-99ca-73c46d632aff",
   "metadata": {},
   "source": [
    "## The Sample Mean\n",
    "To calculate the sample mean:\n",
    "- Add up values from the selected data\n",
    "- Divide the sum by the number of values"
   ]
  },
  {
   "cell_type": "markdown",
   "id": "78c2e6b2-7de1-4229-9d49-2d798449c5f9",
   "metadata": {},
   "source": [
    "$\\bar{x}=\\frac{\\sum_{i=1}^{n} x_i}{n}$\n",
    "\n"
   ]
  },
  {
   "cell_type": "code",
   "execution_count": 93,
   "id": "422d158b-87bb-4c83-b323-f73ed92290da",
   "metadata": {},
   "outputs": [
    {
     "name": "stdout",
     "output_type": "stream",
     "text": [
      "65.22\n"
     ]
    }
   ],
   "source": [
    "list_mean = sum(nums) / len (nums)\n",
    "print (f\"{list_mean:.2f}\")"
   ]
  },
  {
   "cell_type": "markdown",
   "id": "7ec9bcff-6a38-4f0a-b98c-baec15fed567",
   "metadata": {},
   "source": [
    "## The Median\n",
    "(https://www.khanacademy.org/math/statistics-probability/summarizing-quantitative-data/mean-median-basics/a/mean-median-and-mode-review#:~:text=The%20median%20is%20the%20middle,data%20point%20in%20the%20list.)"
   ]
  },
  {
   "cell_type": "code",
   "execution_count": 96,
   "id": "21022c7f-c8b7-4941-b0ea-64864a228b41",
   "metadata": {},
   "outputs": [
    {
     "name": "stdout",
     "output_type": "stream",
     "text": [
      "64.5\n"
     ]
    }
   ],
   "source": [
    "## find the 2 middle values of the arranged data. add the 2 values and divide by 2\n",
    "n = len(nums)\n",
    "list_median = (nums [n//2-1] + nums [n//2]) /2\n",
    "print (f\"{list_median:.1f}\")\n"
   ]
  }
 ],
 "metadata": {
  "kernelspec": {
   "display_name": "Python [conda env:base] *",
   "language": "python",
   "name": "conda-base-py"
  },
  "language_info": {
   "codemirror_mode": {
    "name": "ipython",
    "version": 3
   },
   "file_extension": ".py",
   "mimetype": "text/x-python",
   "name": "python",
   "nbconvert_exporter": "python",
   "pygments_lexer": "ipython3",
   "version": "3.12.7"
  }
 },
 "nbformat": 4,
 "nbformat_minor": 5
}
